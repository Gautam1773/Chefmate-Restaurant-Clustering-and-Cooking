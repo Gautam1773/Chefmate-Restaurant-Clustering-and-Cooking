{
 "cells": [
  {
   "cell_type": "code",
   "execution_count": null,
   "metadata": {
    "vscode": {
     "languageId": "plaintext"
    }
   },
   "outputs": [],
   "source": [
    "# import libraries\n",
    "import pandas as pd\n",
    "import numpy as np\n",
    "import matplotlib.pyplot as plt\n",
    "import seaborn as sns\n",
    "import plotly.express as px\n",
    "import boto3\n",
    "import os\n",
    "from dotenv import load_dotenv\n",
    "import warnings \n",
    "warnings.filterwarnings('ignore')"
   ]
  },
  {
   "cell_type": "code",
   "execution_count": null,
   "metadata": {
    "vscode": {
     "languageId": "plaintext"
    }
   },
   "outputs": [],
   "source": [
    "# authentication credentials for AWS account\n",
    "load_dotenv()\n",
    "Access_key = os.environ['access_key']\n",
    "Secret_key = os.environ['secret_key']"
   ]
  },
  {
   "cell_type": "code",
   "execution_count": null,
   "metadata": {
    "vscode": {
     "languageId": "plaintext"
    }
   },
   "outputs": [],
   "source": [
    "# configuration setup\n",
    "s3_client = boto3.client(\n",
    "                          's3',\n",
    "                          aws_access_key_id = Access_key,\n",
    "                          aws_secret_access_key = Secret_key)"
   ]
  },
  {
   "cell_type": "code",
   "execution_count": null,
   "metadata": {
    "vscode": {
     "languageId": "plaintext"
    }
   },
   "outputs": [],
   "source": [
    "# Load the Data\n",
    "df = pd.read_csv('Zomato_combined_data.csv')"
   ]
  },
  {
   "cell_type": "markdown",
   "metadata": {},
   "source": [
    "****Exploratory Data Analaysis****"
   ]
  },
  {
   "cell_type": "code",
   "execution_count": null,
   "metadata": {
    "vscode": {
     "languageId": "plaintext"
    }
   },
   "outputs": [],
   "source": [
    "# Get a summary of the DataFrame\n",
    "df.info()"
   ]
  },
  {
   "cell_type": "code",
   "execution_count": null,
   "metadata": {
    "vscode": {
     "languageId": "plaintext"
    }
   },
   "outputs": [],
   "source": [
    "# Get statistical summaries of numerical columns\n",
    "df.describe()"
   ]
  },
  {
   "cell_type": "code",
   "execution_count": null,
   "metadata": {
    "vscode": {
     "languageId": "plaintext"
    }
   },
   "outputs": [],
   "source": [
    "# statistical view of the categorical data \n",
    "df.describe(include=\"object\")"
   ]
  },
  {
   "cell_type": "code",
   "execution_count": null,
   "metadata": {
    "vscode": {
     "languageId": "plaintext"
    }
   },
   "outputs": [],
   "source": [
    "# Display the first few rows of the DataFrame\n",
    "df.head()"
   ]
  },
  {
   "cell_type": "markdown",
   "metadata": {},
   "source": [
    "***Missing Values***"
   ]
  },
  {
   "cell_type": "code",
   "execution_count": null,
   "metadata": {
    "vscode": {
     "languageId": "plaintext"
    }
   },
   "outputs": [],
   "source": [
    "# Check for missing values\n",
    "missing_values = df.isnull().sum()\n",
    "missing_values"
   ]
  },
  {
   "cell_type": "code",
   "execution_count": null,
   "metadata": {
    "vscode": {
     "languageId": "plaintext"
    }
   },
   "outputs": [],
   "source": [
    "# replace nan values with cuisine name\n",
    "df.loc[df['Restaurant_name']=='HI Lite Bar & Lounge','Cuisines'] = 'Bar'\n",
    "df.loc[df['Restaurant_name']=='Hillstone','Cuisines'] = 'Thai'\n",
    "df.loc[df['Restaurant_name']==\"Jimmie's Hot Dogs\",'Cuisines'] = 'Hot dogs'\n",
    "df.loc[df['Restaurant_name']==\"Pearly's Famous Country Cookng\",'Cuisines'] = 'American'\n",
    "df.loc[df['Restaurant_name']=='Cookie Shoppe','Cuisines'] = 'Cookies'\n",
    "df.loc[df['Restaurant_name']=='Corkscrew Cafe','Cuisines'] = 'Cafe'\n",
    "df.loc[df['Restaurant_name']=='Tybee Island Social Club','Cuisines'] = 'Coastal'\n",
    "df.loc[df['Restaurant_name']=='Dovetail','Cuisines'] = 'Cocktails '\n",
    "df.loc[df['Restaurant_name']==\"Leonard's Bakery\",'Cuisines'] = 'Bakery'"
   ]
  },
  {
   "cell_type": "code",
   "execution_count": null,
   "metadata": {
    "vscode": {
     "languageId": "plaintext"
    }
   },
   "outputs": [],
   "source": [
    "# Fill missing values with forward fill\n",
    "df.fillna(method='ffill', inplace=True)"
   ]
  },
  {
   "cell_type": "code",
   "execution_count": null,
   "metadata": {
    "vscode": {
     "languageId": "plaintext"
    }
   },
   "outputs": [],
   "source": [
    "df"
   ]
  },
  {
   "cell_type": "code",
   "execution_count": null,
   "metadata": {
    "vscode": {
     "languageId": "plaintext"
    }
   },
   "outputs": [],
   "source": [
    "# Filtering Irrelevant Columns\n",
    "# Drop irrelevant columns\n",
    "df.drop(columns=['Locality', 'Locality_Verbose', 'Rating_color', 'Rating_text'], inplace=True)"
   ]
  },
  {
   "cell_type": "markdown",
   "metadata": {},
   "source": [
    "****Data Visualization****"
   ]
  },
  {
   "cell_type": "code",
   "execution_count": null,
   "metadata": {
    "vscode": {
     "languageId": "plaintext"
    }
   },
   "outputs": [],
   "source": [
    "# 1. Average Aggregate Ratings for Each Restaurant\n",
    "plt.figure(figsize=(12, 6))\n",
    "sns.barplot(x='Aggregate_rating', y='Restaurant_name', data=df, palette='viridis')\n",
    "plt.title('Average Aggregate Ratings for Each Restaurant')\n",
    "plt.xlabel('Average Rating')\n",
    "plt.ylabel('Restaurant Name')\n",
    "plt.tight_layout()\n",
    "plt.show()"
   ]
  },
  {
   "cell_type": "code",
   "execution_count": null,
   "metadata": {
    "vscode": {
     "languageId": "plaintext"
    }
   },
   "outputs": [],
   "source": [
    "# 2. Aggregate Ratings for the Top 20 Restaurants\n",
    "top_20_restaurants = df.sort_values(by='Aggregate_rating', ascending=False).head(20)\n",
    "plt.figure(figsize=(12, 6))\n",
    "sns.barplot(x='Aggregate_rating', y='Restaurant_name', data=top_20_restaurants, palette='viridis')\n",
    "plt.title('Top 20 Restaurants Based on Aggregate Ratings')\n",
    "plt.xlabel('Aggregate Rating')\n",
    "plt.ylabel('Restaurant Name')\n",
    "plt.tight_layout()\n",
    "plt.show()"
   ]
  },
  {
   "cell_type": "code",
   "execution_count": null,
   "metadata": {
    "vscode": {
     "languageId": "plaintext"
    }
   },
   "outputs": [],
   "source": [
    "# 3. Scatter Plot: Individual Aggregate Ratings\n",
    "plt.figure(figsize=(10, 6))\n",
    "sns.scatterplot(x=df['Cuisines'].str.split(', ').str.len(), y=df['Aggregate_rating'], alpha=0.5)\n",
    "plt.title('Individual Aggregate Ratings vs. Number of Cuisines')\n",
    "plt.xlabel('Number of Cuisines')\n",
    "plt.ylabel('Aggregate Rating')\n",
    "plt.grid()\n",
    "plt.tight_layout()\n",
    "plt.show()"
   ]
  },
  {
   "cell_type": "code",
   "execution_count": null,
   "metadata": {
    "vscode": {
     "languageId": "plaintext"
    }
   },
   "outputs": [],
   "source": [
    "# 4. Pie Chart: Distribution of Cuisines Across All Cities\n",
    "cuisine_counts = df['Cuisines'].str.split(', ').explode().value_counts()\n",
    "plt.figure(figsize=(10, 10))\n",
    "cuisine_counts.plot.pie(autopct='%1.1f%%', startangle=90)\n",
    "plt.title('Distribution of Cuisines Across All Cities')\n",
    "plt.ylabel('')\n",
    "plt.show()"
   ]
  },
  {
   "cell_type": "code",
   "execution_count": null,
   "metadata": {
    "vscode": {
     "languageId": "plaintext"
    }
   },
   "outputs": [],
   "source": [
    "# Select top 20 cuisines\n",
    "top_cuisines = df['Cuisines'].value_counts().head(20)\n",
    "\n",
    "# Create pie chart\n",
    "plt.figure(figsize=(12, 8))\n",
    "plt.pie(top_cuisines, labels=top_cuisines.index, autopct='%1.1f%%')\n",
    "plt.title('Top 20 Cuisines Across All Cities')\n",
    "plt.show()"
   ]
  },
  {
   "cell_type": "code",
   "execution_count": null,
   "metadata": {
    "vscode": {
     "languageId": "plaintext"
    }
   },
   "outputs": [],
   "source": [
    "# 5. Bar Chart: Distribution of Cuisines for the Top 20 Restaurants\n",
    "top_20_cuisines = top_20_restaurants['Cuisines'].str.split(', ').explode().value_counts()\n",
    "plt.figure(figsize=(12, 6))\n",
    "sns.barplot(x=top_20_cuisines.index, y=top_20_cuisines.values, palette='viridis')\n",
    "plt.title('Distribution of Cuisines for the Top 20 Restaurants')\n",
    "plt.xlabel('Cuisines')\n",
    "plt.ylabel('Count')\n",
    "plt.xticks(rotation=45)\n",
    "plt.tight_layout()\n",
    "plt.show()"
   ]
  },
  {
   "cell_type": "code",
   "execution_count": null,
   "metadata": {
    "vscode": {
     "languageId": "plaintext"
    }
   },
   "outputs": [],
   "source": [
    "df[\"Cuisines\"].unique()"
   ]
  },
  {
   "cell_type": "code",
   "execution_count": null,
   "metadata": {
    "vscode": {
     "languageId": "plaintext"
    }
   },
   "outputs": [],
   "source": [
    "df[\"Cuisines\"].value_counts()"
   ]
  },
  {
   "cell_type": "code",
   "execution_count": null,
   "metadata": {
    "vscode": {
     "languageId": "plaintext"
    }
   },
   "outputs": [],
   "source": [
    "# Split the cuisines into individual categories\n",
    "cuisines_series = df['Cuisines'].str.split(', ')\n",
    "cuisines_flat = cuisines_series.explode()  # Flatten the list of cuisines"
   ]
  },
  {
   "cell_type": "code",
   "execution_count": null,
   "metadata": {
    "vscode": {
     "languageId": "plaintext"
    }
   },
   "outputs": [],
   "source": [
    "# Count the occurrences of each cuisine category\n",
    "cuisine_counts = cuisines_flat.value_counts()"
   ]
  },
  {
   "cell_type": "code",
   "execution_count": null,
   "metadata": {
    "vscode": {
     "languageId": "plaintext"
    }
   },
   "outputs": [],
   "source": [
    "# Limit to top N categories (e.g., top 20)\n",
    "top_n = 20\n",
    "top_cuisines = cuisine_counts.head(top_n)"
   ]
  },
  {
   "cell_type": "code",
   "execution_count": null,
   "metadata": {
    "vscode": {
     "languageId": "plaintext"
    }
   },
   "outputs": [],
   "source": [
    "# Plot the results as a horizontal bar plot\n",
    "plt.figure(figsize=(10, 8))\n",
    "sns.barplot(x=top_cuisines.values, y=top_cuisines.index, palette='viridis')\n",
    "plt.title(f'Top {top_n} Cuisine Categories Count')\n",
    "plt.xlabel('Count')\n",
    "plt.ylabel('Cuisine')\n",
    "plt.tight_layout()  # Adjust layout\n",
    "plt.show()"
   ]
  },
  {
   "cell_type": "code",
   "execution_count": null,
   "metadata": {
    "vscode": {
     "languageId": "plaintext"
    }
   },
   "outputs": [],
   "source": [
    "# Sort the DataFrame by 'Aggregate_rating' in descending order\n",
    "top_restaurants = df.sort_values(by='Aggregate_rating', ascending=False).head(20)"
   ]
  },
  {
   "cell_type": "code",
   "execution_count": null,
   "metadata": {
    "vscode": {
     "languageId": "plaintext"
    }
   },
   "outputs": [],
   "source": [
    "# Create a bar plot for the top 20 restaurants\n",
    "plt.figure(figsize=(12, 8))\n",
    "sns.barplot(x='Aggregate_rating', y='Restaurant_name', data=top_restaurants, palette='viridis', hue='City')\n",
    "plt.title('Top 20 Restaurants Based on Aggregate Ratings')\n",
    "plt.xlabel('Aggregate Rating')\n",
    "plt.ylabel('Restaurant Name')\n",
    "plt.legend(title='City', bbox_to_anchor=(1.05, 1), loc='upper left')  # Legend outside the plot\n",
    "plt.tight_layout()  # Adjust layout\n",
    "plt.show()"
   ]
  },
  {
   "cell_type": "code",
   "execution_count": null,
   "metadata": {
    "vscode": {
     "languageId": "plaintext"
    }
   },
   "outputs": [],
   "source": [
    "# Clean the 'Average_Cost_for_two' column but keep currency\n",
    "df['Average_Cost_for_two'] = df['Average_Cost_for_two'].replace({',': ''}, regex=True)\n",
    "df['Average_Cost_for_two'] = pd.to_numeric(df['Average_Cost_for_two'], errors='coerce')"
   ]
  },
  {
   "cell_type": "code",
   "execution_count": null,
   "metadata": {
    "vscode": {
     "languageId": "plaintext"
    }
   },
   "outputs": [],
   "source": [
    "# Group by currency and calculate the average cost for two\n",
    "average_cost_by_currency = df.groupby('Currency')['Average_Cost_for_two'].mean().reset_index()"
   ]
  },
  {
   "cell_type": "code",
   "execution_count": null,
   "metadata": {
    "vscode": {
     "languageId": "plaintext"
    }
   },
   "outputs": [],
   "source": [
    "average_cost_by_currency"
   ]
  },
  {
   "cell_type": "code",
   "execution_count": null,
   "metadata": {
    "vscode": {
     "languageId": "plaintext"
    }
   },
   "outputs": [],
   "source": [
    "# Visualize the average cost for two by currency using a bar plot\n",
    "plt.figure(figsize=(10, 6))\n",
    "sns.barplot(x='Currency', y='Average_Cost_for_two', data=average_cost_by_currency, palette='viridis')\n",
    "plt.title('Average Cost for Two by Currency')\n",
    "plt.xlabel('Currency')\n",
    "plt.ylabel('Average Cost for Two (in respective currency)')\n",
    "plt.xticks(rotation=45)  # Rotate x labels for better readability\n",
    "plt.tight_layout()  # Adjust layout\n",
    "plt.show()"
   ]
  },
  {
   "cell_type": "code",
   "execution_count": null,
   "metadata": {
    "vscode": {
     "languageId": "plaintext"
    }
   },
   "outputs": [],
   "source": [
    "# Select Numeric Columns\n",
    "numeric_df = df.select_dtypes(include=['float64', 'int64'])\n",
    "\n",
    "# Calculate the Correlation Matrix\n",
    "correlation_matrix = numeric_df.corr()\n",
    "\n",
    "# Visualize the Correlation Matrix\n",
    "plt.figure(figsize=(10, 8))\n",
    "sns.heatmap(correlation_matrix, annot=True, cmap='coolwarm', fmt=\".2f\")\n",
    "plt.title('Correlation Matrix of Numeric Features')\n",
    "plt.show()"
   ]
  },
  {
   "cell_type": "code",
   "execution_count": null,
   "metadata": {
    "vscode": {
     "languageId": "plaintext"
    }
   },
   "outputs": [],
   "source": [
    "# Create the map\n",
    "fig = px.scatter_geo(df, \n",
    "                     lat='Latitude', \n",
    "                     lon='Longitude', \n",
    "                     hover_name='Restaurant_name', \n",
    "                     title='Restaurant Locations',\n",
    "                     projection='natural earth')  # You can change the projection type if needed"
   ]
  },
  {
   "cell_type": "code",
   "execution_count": null,
   "metadata": {
    "vscode": {
     "languageId": "plaintext"
    }
   },
   "outputs": [],
   "source": [
    "# Show the map\n",
    "fig.show()"
   ]
  },
  {
   "cell_type": "code",
   "execution_count": null,
   "metadata": {
    "vscode": {
     "languageId": "plaintext"
    }
   },
   "outputs": [],
   "source": [
    "# histogram to visual the data distribution\n",
    "df.hist(figsize=(12,12))\n",
    "plt.show()"
   ]
  },
  {
   "cell_type": "code",
   "execution_count": null,
   "metadata": {
    "vscode": {
     "languageId": "plaintext"
    }
   },
   "outputs": [],
   "source": [
    "# Save cleaned df to a CSV file\n",
    "df.to_csv('Zomato_cleaned_data.csv', index=False)"
   ]
  },
  {
   "cell_type": "code",
   "execution_count": null,
   "metadata": {
    "vscode": {
     "languageId": "plaintext"
    }
   },
   "outputs": [],
   "source": [
    "# upload the cleaned data to s3\n",
    "file_path = \"Zomato_cleaned_data.csv\"\n",
    "s3_client.upload_file(file_path,'chefmatebucket1','datas/Zomato_cleaned_data.csv') #folder/filename"
   ]
  }
 ],
 "metadata": {
  "language_info": {
   "name": "python"
  }
 },
 "nbformat": 4,
 "nbformat_minor": 2
}
