{
 "cells": [
  {
   "cell_type": "code",
   "execution_count": null,
   "metadata": {
    "vscode": {
     "languageId": "plaintext"
    }
   },
   "outputs": [],
   "source": [
    "import pandas as pd\n",
    "import boto3\n",
    "from dotenv import load_dotenv"
   ]
  },
  {
   "cell_type": "markdown",
   "metadata": {},
   "source": [
    "***S3 Bucket connection***\n"
   ]
  },
  {
   "cell_type": "code",
   "execution_count": null,
   "metadata": {
    "vscode": {
     "languageId": "plaintext"
    }
   },
   "outputs": [],
   "source": [
    "# authentication credentials for AWS account\n",
    "load_dotenv()\n",
    "Access_key = os.environ['access_key']\n",
    "Secret_key = os.environ['secret_key']"
   ]
  },
  {
   "cell_type": "code",
   "execution_count": null,
   "metadata": {
    "vscode": {
     "languageId": "plaintext"
    }
   },
   "outputs": [],
   "source": [
    "# configuration setup\n",
    "s3_client = boto3.client(\n",
    "                          's3',\n",
    "                          aws_access_key_id = Access_key,\n",
    "                          aws_secret_access_key = Secret_key)"
   ]
  },
  {
   "cell_type": "code",
   "execution_count": null,
   "metadata": {
    "vscode": {
     "languageId": "plaintext"
    }
   },
   "outputs": [],
   "source": [
    "#list of buckets\n",
    "buckets = s3_client.list_buckets()\n",
    "\n",
    "buckets"
   ]
  },
  {
   "cell_type": "code",
   "execution_count": null,
   "metadata": {
    "vscode": {
     "languageId": "plaintext"
    }
   },
   "outputs": [],
   "source": [
    "# files inside a bucket\n",
    "files = s3_client.list_objects_v2(Bucket = 'chefmatebucket1')\n",
    "files"
   ]
  },
  {
   "cell_type": "code",
   "execution_count": null,
   "metadata": {
    "vscode": {
     "languageId": "plaintext"
    }
   },
   "outputs": [],
   "source": [
    "# files inside a folder\n",
    "files_inside_folder = s3_client.list_objects_v2(Bucket = 'chefmatebucket',Prefix = 'datas/')\n",
    "files_inside_folder"
   ]
  },
  {
   "cell_type": "code",
   "execution_count": null,
   "metadata": {
    "vscode": {
     "languageId": "plaintext"
    }
   },
   "outputs": [],
   "source": [
    "#for Eg:\n",
    "#(bucket_name , actual_file_name , download_name)\n",
    "\n",
    "s3_client.download_file('chefmatebucket','datas/file1.json','unstructureddata')"
   ]
  },
  {
   "cell_type": "markdown",
   "metadata": {},
   "source": [
    "***File 1***"
   ]
  },
  {
   "cell_type": "code",
   "execution_count": null,
   "metadata": {
    "vscode": {
     "languageId": "plaintext"
    }
   },
   "outputs": [],
   "source": [
    "# Load the dataset\n",
    "data_1 = pd.read_json('file1.json')"
   ]
  },
  {
   "cell_type": "code",
   "execution_count": null,
   "metadata": {
    "vscode": {
     "languageId": "plaintext"
    }
   },
   "outputs": [],
   "source": [
    "data_1"
   ]
  },
  {
   "cell_type": "code",
   "execution_count": null,
   "metadata": {
    "vscode": {
     "languageId": "plaintext"
    }
   },
   "outputs": [],
   "source": [
    "# drop column from dataframe\n",
    "data_1.drop(columns=[\"results_found\",\"results_shown\",\"results_start\",\"message\",\"code\",\"status\"],inplace=True,axis=1)"
   ]
  },
  {
   "cell_type": "code",
   "execution_count": null,
   "metadata": {
    "vscode": {
     "languageId": "plaintext"
    }
   },
   "outputs": [],
   "source": [
    "data_1"
   ]
  },
  {
   "cell_type": "code",
   "execution_count": null,
   "metadata": {
    "vscode": {
     "languageId": "plaintext"
    }
   },
   "outputs": [],
   "source": [
    "data_1.columns"
   ]
  },
  {
   "cell_type": "code",
   "execution_count": null,
   "metadata": {
    "vscode": {
     "languageId": "plaintext"
    }
   },
   "outputs": [],
   "source": [
    "# Initialize an empty list to hold restaurant data\n",
    "restaurants = []\n",
    "\n",
    "# Extract the restaurant data from the nested structure\n",
    "for restaurant_list in data_1['restaurants']:\n",
    "    # Check if the restaurant_list is a list\n",
    "    if isinstance(restaurant_list, list):  # Ensure it's a list before iterating\n",
    "        for restaurant in restaurant_list:  # Each restaurant_list contains individual restaurant dictionaries\n",
    "            if 'restaurant' in restaurant:  # Check if 'restaurant' key exists\n",
    "                restaurants.append(restaurant['restaurant'])  # Append the 'restaurant' dictionary to the list"
   ]
  },
  {
   "cell_type": "code",
   "execution_count": null,
   "metadata": {
    "vscode": {
     "languageId": "plaintext"
    }
   },
   "outputs": [],
   "source": [
    "# Create a new DataFrame from the list of restaurant dictionaries\n",
    "data_1 = pd.DataFrame(restaurants)"
   ]
  },
  {
   "cell_type": "code",
   "execution_count": null,
   "metadata": {
    "vscode": {
     "languageId": "plaintext"
    }
   },
   "outputs": [],
   "source": [
    "data_1.columns"
   ]
  },
  {
   "cell_type": "code",
   "execution_count": null,
   "metadata": {
    "vscode": {
     "languageId": "plaintext"
    }
   },
   "outputs": [],
   "source": [
    "# Step 1: Extract relevant columns\n",
    "columns_of_interest = [\n",
    "    'has_online_delivery', 'price_range','user_rating', 'R', 'name', 'cuisines', \n",
    "    'is_delivering_now', 'average_cost_for_two', 'switch_to_order_menu',\n",
    "    'has_table_booking', 'location','currency', 'id'\n",
    "]"
   ]
  },
  {
   "cell_type": "code",
   "execution_count": null,
   "metadata": {
    "vscode": {
     "languageId": "plaintext"
    }
   },
   "outputs": [],
   "source": [
    "# Check if columns of interest exist in the DataFrame\n",
    "existing_columns = [col for col in columns_of_interest if col in data_1.columns]\n",
    "print(\"Existing columns:\", existing_columns)  # Print the existing columns to see what's available"
   ]
  },
  {
   "cell_type": "code",
   "execution_count": null,
   "metadata": {
    "vscode": {
     "languageId": "plaintext"
    }
   },
   "outputs": [],
   "source": [
    "# Extract the relevant columns\n",
    "data_1 = data_1[existing_columns]"
   ]
  },
  {
   "cell_type": "code",
   "execution_count": null,
   "metadata": {
    "vscode": {
     "languageId": "plaintext"
    }
   },
   "outputs": [],
   "source": [
    "data_1"
   ]
  },
  {
   "cell_type": "code",
   "execution_count": null,
   "metadata": {
    "vscode": {
     "languageId": "plaintext"
    }
   },
   "outputs": [],
   "source": [
    "# If necessary, flatten the 'location' and 'user_rating' dictionaries\n",
    "data_1['latitude'] = data_1['location'].apply(lambda x: x.get('latitude', None) if isinstance(x, dict) else None)\n",
    "data_1['longitude'] = data_1['location'].apply(lambda x: x.get('longitude', None) if isinstance(x, dict) else None)\n",
    "data_1['city'] = data_1['location'].apply(lambda x: x.get('city', None) if isinstance(x, dict) else None)\n",
    "data_1['address'] = data_1['location'].apply(lambda x: x.get('address', None) if isinstance(x, dict) else None)\n",
    "data_1['country_id'] = data_1['location'].apply(lambda x: x.get('country_id', None) if isinstance(x, dict) else None)\n",
    "data_1['locality_verbose'] = data_1['location'].apply(lambda x: x.get('locality_verbose', None) if isinstance(x, dict) else None)\n",
    "data_1['locality'] = data_1['location'].apply(lambda x: x.get('locality', None) if isinstance(x, dict) else None)\n",
    "\n",
    "data_1['aggregate_rating'] = data_1['user_rating'].apply(lambda x: x.get('aggregate_rating', None) if isinstance(x, dict) else None)\n",
    "data_1['rating_color'] = data_1['user_rating'].apply(lambda x: x.get('rating_color', None) if isinstance(x, dict) else None)\n",
    "data_1['rating_text'] = data_1['user_rating'].apply(lambda x: x.get('rating_text', None) if isinstance(x, dict) else None)\n",
    "data_1['votes'] = data_1['user_rating'].apply(lambda x: x.get('votes', None) if isinstance(x, dict) else None)\n",
    "\n",
    "# Flatten the 'R' dictionary\n",
    "data_1['res_id'] = data_1['R'].apply(lambda x: x.get('res_id', None) if isinstance(x, dict) else None)"
   ]
  },
  {
   "cell_type": "code",
   "execution_count": null,
   "metadata": {
    "vscode": {
     "languageId": "plaintext"
    }
   },
   "outputs": [],
   "source": [
    "# Drop the original 'location', 'user_rating', and 'R' columns if no longer needed\n",
    "data_1.drop(columns=['location', 'user_rating', 'R'], inplace=True)"
   ]
  },
  {
   "cell_type": "code",
   "execution_count": null,
   "metadata": {
    "vscode": {
     "languageId": "plaintext"
    }
   },
   "outputs": [],
   "source": [
    "data_1.drop(columns=['id'], inplace=True)"
   ]
  },
  {
   "cell_type": "code",
   "execution_count": null,
   "metadata": {
    "vscode": {
     "languageId": "plaintext"
    }
   },
   "outputs": [],
   "source": [
    "data_1.head()"
   ]
  },
  {
   "cell_type": "code",
   "execution_count": null,
   "metadata": {
    "vscode": {
     "languageId": "plaintext"
    }
   },
   "outputs": [],
   "source": [
    "data_1.shape"
   ]
  },
  {
   "cell_type": "markdown",
   "metadata": {},
   "source": [
    "***File 2***"
   ]
  },
  {
   "cell_type": "code",
   "execution_count": null,
   "metadata": {
    "vscode": {
     "languageId": "plaintext"
    }
   },
   "outputs": [],
   "source": [
    "# Load the dataset\n",
    "data_2 = pd.read_json('file2.json')"
   ]
  },
  {
   "cell_type": "code",
   "execution_count": null,
   "metadata": {
    "vscode": {
     "languageId": "plaintext"
    }
   },
   "outputs": [],
   "source": [
    "data_2"
   ]
  },
  {
   "cell_type": "code",
   "execution_count": null,
   "metadata": {
    "vscode": {
     "languageId": "plaintext"
    }
   },
   "outputs": [],
   "source": [
    "# drop column from dataframe\n",
    "data_2.drop(columns=[\"results_found\",\"results_shown\",\"results_start\"],inplace=True,axis=1)"
   ]
  },
  {
   "cell_type": "code",
   "execution_count": null,
   "metadata": {
    "vscode": {
     "languageId": "plaintext"
    }
   },
   "outputs": [],
   "source": [
    "data_2"
   ]
  },
  {
   "cell_type": "code",
   "execution_count": null,
   "metadata": {
    "vscode": {
     "languageId": "plaintext"
    }
   },
   "outputs": [],
   "source": [
    "data_2.columns"
   ]
  },
  {
   "cell_type": "code",
   "execution_count": null,
   "metadata": {
    "vscode": {
     "languageId": "plaintext"
    }
   },
   "outputs": [],
   "source": [
    "# Initialize an empty list to hold restaurant data\n",
    "restaurants = []\n",
    "\n",
    "# Extract the restaurant data from the nested structure\n",
    "for restaurant_list in data_2['restaurants']:\n",
    "    # Check if the restaurant_list is a list\n",
    "    if isinstance(restaurant_list, list):  # Ensure it's a list before iterating\n",
    "        for restaurant in restaurant_list:  # Each restaurant_list contains individual restaurant dictionaries\n",
    "            if 'restaurant' in restaurant:  # Check if 'restaurant' key exists\n",
    "                restaurants.append(restaurant['restaurant'])  # Append the 'restaurant' dictionary to the list"
   ]
  },
  {
   "cell_type": "code",
   "execution_count": null,
   "metadata": {
    "vscode": {
     "languageId": "plaintext"
    }
   },
   "outputs": [],
   "source": [
    "# Create a new DataFrame from the list of restaurant dictionaries\n",
    "data_2 = pd.DataFrame(restaurants)"
   ]
  },
  {
   "cell_type": "code",
   "execution_count": null,
   "metadata": {
    "vscode": {
     "languageId": "plaintext"
    }
   },
   "outputs": [],
   "source": [
    "data_2.columns"
   ]
  },
  {
   "cell_type": "code",
   "execution_count": null,
   "metadata": {
    "vscode": {
     "languageId": "plaintext"
    }
   },
   "outputs": [],
   "source": [
    "# Step 1: Extract relevant columns\n",
    "columns_of_interest = [\n",
    "    'has_online_delivery', 'price_range','user_rating', 'R', 'name', 'cuisines', \n",
    "    'is_delivering_now', 'average_cost_for_two', 'switch_to_order_menu',\n",
    "    'has_table_booking', 'location','currency', 'id'\n",
    "]"
   ]
  },
  {
   "cell_type": "code",
   "execution_count": null,
   "metadata": {
    "vscode": {
     "languageId": "plaintext"
    }
   },
   "outputs": [],
   "source": [
    "# Check if columns of interest exist in the DataFrame\n",
    "existing_columns = [col for col in columns_of_interest if col in data_2.columns]\n",
    "print(\"Existing columns:\", existing_columns)  # Print the existing columns to see what's available"
   ]
  },
  {
   "cell_type": "code",
   "execution_count": null,
   "metadata": {
    "vscode": {
     "languageId": "plaintext"
    }
   },
   "outputs": [],
   "source": [
    "# Extract the relevant columns\n",
    "data_2 = data_2[existing_columns]"
   ]
  },
  {
   "cell_type": "code",
   "execution_count": null,
   "metadata": {
    "vscode": {
     "languageId": "plaintext"
    }
   },
   "outputs": [],
   "source": [
    "data_2"
   ]
  },
  {
   "cell_type": "code",
   "execution_count": null,
   "metadata": {
    "vscode": {
     "languageId": "plaintext"
    }
   },
   "outputs": [],
   "source": [
    "# If necessary, flatten the 'location' and 'user_rating' dictionaries\n",
    "data_2['latitude'] = data_2['location'].apply(lambda x: x.get('latitude', None) if isinstance(x, dict) else None)\n",
    "data_2['longitude'] = data_2['location'].apply(lambda x: x.get('longitude', None) if isinstance(x, dict) else None)\n",
    "data_2['city'] = data_2['location'].apply(lambda x: x.get('city', None) if isinstance(x, dict) else None)\n",
    "data_2['address'] = data_2['location'].apply(lambda x: x.get('address', None) if isinstance(x, dict) else None)\n",
    "data_2['country_id'] = data_2['location'].apply(lambda x: x.get('country_id', None) if isinstance(x, dict) else None)\n",
    "data_2['locality_verbose'] = data_2['location'].apply(lambda x: x.get('locality_verbose', None) if isinstance(x, dict) else None)\n",
    "data_2['locality'] = data_2['location'].apply(lambda x: x.get('locality', None) if isinstance(x, dict) else None)\n",
    "\n",
    "data_2['aggregate_rating'] = data_2['user_rating'].apply(lambda x: x.get('aggregate_rating', None) if isinstance(x, dict) else None)\n",
    "data_2['rating_color'] = data_2['user_rating'].apply(lambda x: x.get('rating_color', None) if isinstance(x, dict) else None)\n",
    "data_2['rating_text'] = data_2['user_rating'].apply(lambda x: x.get('rating_text', None) if isinstance(x, dict) else None)\n",
    "data_2['votes'] = data_2['user_rating'].apply(lambda x: x.get('votes', None) if isinstance(x, dict) else None)\n",
    "\n",
    "# Flatten the 'R' dictionary\n",
    "data_2['res_id'] = data_2['R'].apply(lambda x: x.get('res_id', None) if isinstance(x, dict) else None)"
   ]
  },
  {
   "cell_type": "code",
   "execution_count": null,
   "metadata": {
    "vscode": {
     "languageId": "plaintext"
    }
   },
   "outputs": [],
   "source": [
    "# Drop the original 'location', 'user_rating', and 'R' columns if no longer needed\n",
    "data_2.drop(columns=['location', 'user_rating', 'R'], inplace=True)"
   ]
  },
  {
   "cell_type": "code",
   "execution_count": null,
   "metadata": {
    "vscode": {
     "languageId": "plaintext"
    }
   },
   "outputs": [],
   "source": [
    "data_2.drop(columns=['id'], inplace=True)"
   ]
  },
  {
   "cell_type": "code",
   "execution_count": null,
   "metadata": {
    "vscode": {
     "languageId": "plaintext"
    }
   },
   "outputs": [],
   "source": [
    "data_2.head()"
   ]
  },
  {
   "cell_type": "code",
   "execution_count": null,
   "metadata": {
    "vscode": {
     "languageId": "plaintext"
    }
   },
   "outputs": [],
   "source": [
    "data_2.shape"
   ]
  },
  {
   "cell_type": "markdown",
   "metadata": {},
   "source": [
    "***File 3***"
   ]
  },
  {
   "cell_type": "code",
   "execution_count": null,
   "metadata": {
    "vscode": {
     "languageId": "plaintext"
    }
   },
   "outputs": [],
   "source": [
    "# Load the dataset\n",
    "data_3 = pd.read_json('file3.json')"
   ]
  },
  {
   "cell_type": "code",
   "execution_count": null,
   "metadata": {
    "vscode": {
     "languageId": "plaintext"
    }
   },
   "outputs": [],
   "source": [
    "data_3"
   ]
  },
  {
   "cell_type": "code",
   "execution_count": null,
   "metadata": {
    "vscode": {
     "languageId": "plaintext"
    }
   },
   "outputs": [],
   "source": [
    "# drop column from dataframe\n",
    "data_3.drop(columns=[\"results_found\",\"results_shown\",\"results_start\",\"message\",\"code\",\"status\"],inplace=True,axis=1)"
   ]
  },
  {
   "cell_type": "code",
   "execution_count": null,
   "metadata": {
    "vscode": {
     "languageId": "plaintext"
    }
   },
   "outputs": [],
   "source": [
    "data_3"
   ]
  },
  {
   "cell_type": "code",
   "execution_count": null,
   "metadata": {
    "vscode": {
     "languageId": "plaintext"
    }
   },
   "outputs": [],
   "source": [
    "data_3.columns"
   ]
  },
  {
   "cell_type": "code",
   "execution_count": null,
   "metadata": {
    "vscode": {
     "languageId": "plaintext"
    }
   },
   "outputs": [],
   "source": [
    "# Initialize an empty list to hold restaurant data\n",
    "restaurants = []\n",
    "\n",
    "# Extract the restaurant data from the nested structure\n",
    "for restaurant_list in data_3['restaurants']:\n",
    "    # Check if the restaurant_list is a list\n",
    "    if isinstance(restaurant_list, list):  # Ensure it's a list before iterating\n",
    "        for restaurant in restaurant_list:  # Each restaurant_list contains individual restaurant dictionaries\n",
    "            if 'restaurant' in restaurant:  # Check if 'restaurant' key exists\n",
    "                restaurants.append(restaurant['restaurant'])  # Append the 'restaurant' dictionary to the list"
   ]
  },
  {
   "cell_type": "code",
   "execution_count": null,
   "metadata": {
    "vscode": {
     "languageId": "plaintext"
    }
   },
   "outputs": [],
   "source": [
    "# Create a new DataFrame from the list of restaurant dictionaries\n",
    "data_3 = pd.DataFrame(restaurants)"
   ]
  },
  {
   "cell_type": "code",
   "execution_count": null,
   "metadata": {
    "vscode": {
     "languageId": "plaintext"
    }
   },
   "outputs": [],
   "source": [
    "data_3.columns"
   ]
  },
  {
   "cell_type": "code",
   "execution_count": null,
   "metadata": {
    "vscode": {
     "languageId": "plaintext"
    }
   },
   "outputs": [],
   "source": [
    "# Step 1: Extract relevant columns\n",
    "columns_of_interest = [\n",
    "    'has_online_delivery', 'price_range','user_rating', 'R', 'name', 'cuisines', \n",
    "    'is_delivering_now', 'average_cost_for_two', 'switch_to_order_menu',\n",
    "    'has_table_booking', 'location','currency', 'id'\n",
    "]"
   ]
  },
  {
   "cell_type": "code",
   "execution_count": null,
   "metadata": {
    "vscode": {
     "languageId": "plaintext"
    }
   },
   "outputs": [],
   "source": [
    "# Check if columns of interest exist in the DataFrame\n",
    "existing_columns = [col for col in columns_of_interest if col in data_3.columns]\n",
    "print(\"Existing columns:\", existing_columns)  # Print the existing columns to see what's available"
   ]
  },
  {
   "cell_type": "code",
   "execution_count": null,
   "metadata": {
    "vscode": {
     "languageId": "plaintext"
    }
   },
   "outputs": [],
   "source": [
    "# Extract the relevant columns\n",
    "data_3 = data_3[existing_columns]"
   ]
  },
  {
   "cell_type": "code",
   "execution_count": null,
   "metadata": {
    "vscode": {
     "languageId": "plaintext"
    }
   },
   "outputs": [],
   "source": [
    "data_3"
   ]
  },
  {
   "cell_type": "code",
   "execution_count": null,
   "metadata": {
    "vscode": {
     "languageId": "plaintext"
    }
   },
   "outputs": [],
   "source": [
    "# If necessary, flatten the 'location' and 'user_rating' dictionaries\n",
    "data_3['latitude'] = data_3['location'].apply(lambda x: x.get('latitude', None) if isinstance(x, dict) else None)\n",
    "data_3['longitude'] = data_3['location'].apply(lambda x: x.get('longitude', None) if isinstance(x, dict) else None)\n",
    "data_3['city'] = data_3['location'].apply(lambda x: x.get('city', None) if isinstance(x, dict) else None)\n",
    "data_3['address'] = data_3['location'].apply(lambda x: x.get('address', None) if isinstance(x, dict) else None)\n",
    "data_3['country_id'] = data_3['location'].apply(lambda x: x.get('country_id', None) if isinstance(x, dict) else None)\n",
    "data_3['locality_verbose'] = data_3['location'].apply(lambda x: x.get('locality_verbose', None) if isinstance(x, dict) else None)\n",
    "data_3['locality'] = data_3['location'].apply(lambda x: x.get('locality', None) if isinstance(x, dict) else None)\n",
    "\n",
    "data_3['aggregate_rating'] = data_3['user_rating'].apply(lambda x: x.get('aggregate_rating', None) if isinstance(x, dict) else None)\n",
    "data_3['rating_color'] = data_3['user_rating'].apply(lambda x: x.get('rating_color', None) if isinstance(x, dict) else None)\n",
    "data_3['rating_text'] = data_3['user_rating'].apply(lambda x: x.get('rating_text', None) if isinstance(x, dict) else None)\n",
    "data_3['votes'] = data_3['user_rating'].apply(lambda x: x.get('votes', None) if isinstance(x, dict) else None)\n",
    "\n",
    "# Flatten the 'R' dictionary\n",
    "data_3['res_id'] = data_3['R'].apply(lambda x: x.get('res_id', None) if isinstance(x, dict) else None)"
   ]
  },
  {
   "cell_type": "code",
   "execution_count": null,
   "metadata": {
    "vscode": {
     "languageId": "plaintext"
    }
   },
   "outputs": [],
   "source": [
    "# Drop the original 'location', 'user_rating', and 'R' columns if no longer needed\n",
    "data_3.drop(columns=['location', 'user_rating', 'R'], inplace=True)"
   ]
  },
  {
   "cell_type": "code",
   "execution_count": null,
   "metadata": {
    "vscode": {
     "languageId": "plaintext"
    }
   },
   "outputs": [],
   "source": [
    "data_3.drop(columns=['id'], inplace=True)"
   ]
  },
  {
   "cell_type": "code",
   "execution_count": null,
   "metadata": {
    "vscode": {
     "languageId": "plaintext"
    }
   },
   "outputs": [],
   "source": [
    "data_3.head()"
   ]
  },
  {
   "cell_type": "code",
   "execution_count": null,
   "metadata": {
    "vscode": {
     "languageId": "plaintext"
    }
   },
   "outputs": [],
   "source": [
    "data_3.shape"
   ]
  },
  {
   "cell_type": "markdown",
   "metadata": {},
   "source": [
    "***File 4***"
   ]
  },
  {
   "cell_type": "code",
   "execution_count": null,
   "metadata": {
    "vscode": {
     "languageId": "plaintext"
    }
   },
   "outputs": [],
   "source": [
    "# Load the dataset\n",
    "data_4 = pd.read_json('file4.json')"
   ]
  },
  {
   "cell_type": "code",
   "execution_count": null,
   "metadata": {
    "vscode": {
     "languageId": "plaintext"
    }
   },
   "outputs": [],
   "source": [
    "data_4"
   ]
  },
  {
   "cell_type": "code",
   "execution_count": null,
   "metadata": {
    "vscode": {
     "languageId": "plaintext"
    }
   },
   "outputs": [],
   "source": [
    "# drop column from dataframe\n",
    "data_4.drop(columns=[\"results_found\",\"results_shown\",\"results_start\"],inplace=True,axis=1)"
   ]
  },
  {
   "cell_type": "code",
   "execution_count": null,
   "metadata": {
    "vscode": {
     "languageId": "plaintext"
    }
   },
   "outputs": [],
   "source": [
    "data_4"
   ]
  },
  {
   "cell_type": "code",
   "execution_count": null,
   "metadata": {
    "vscode": {
     "languageId": "plaintext"
    }
   },
   "outputs": [],
   "source": [
    "data_4.columns"
   ]
  },
  {
   "cell_type": "code",
   "execution_count": null,
   "metadata": {
    "vscode": {
     "languageId": "plaintext"
    }
   },
   "outputs": [],
   "source": [
    "# Initialize an empty list to hold restaurant data\n",
    "restaurants = []\n",
    "\n",
    "# Extract the restaurant data from the nested structure\n",
    "for restaurant_list in data_4['restaurants']:\n",
    "    # Check if the restaurant_list is a list\n",
    "    if isinstance(restaurant_list, list):  # Ensure it's a list before iterating\n",
    "        for restaurant in restaurant_list:  # Each restaurant_list contains individual restaurant dictionaries\n",
    "            if 'restaurant' in restaurant:  # Check if 'restaurant' key exists\n",
    "                restaurants.append(restaurant['restaurant'])  # Append the 'restaurant' dictionary to the list"
   ]
  },
  {
   "cell_type": "code",
   "execution_count": null,
   "metadata": {
    "vscode": {
     "languageId": "plaintext"
    }
   },
   "outputs": [],
   "source": [
    "# Create a new DataFrame from the list of restaurant dictionaries\n",
    "data_4 = pd.DataFrame(restaurants)"
   ]
  },
  {
   "cell_type": "code",
   "execution_count": null,
   "metadata": {
    "vscode": {
     "languageId": "plaintext"
    }
   },
   "outputs": [],
   "source": [
    "data_4.columns"
   ]
  },
  {
   "cell_type": "code",
   "execution_count": null,
   "metadata": {
    "vscode": {
     "languageId": "plaintext"
    }
   },
   "outputs": [],
   "source": [
    "# Step 1: Extract relevant columns\n",
    "columns_of_interest = [\n",
    "    'has_online_delivery', 'price_range','user_rating', 'R', 'name', 'cuisines', \n",
    "    'is_delivering_now', 'average_cost_for_two', 'switch_to_order_menu',\n",
    "    'has_table_booking', 'location','currency', 'id'\n",
    "]"
   ]
  },
  {
   "cell_type": "code",
   "execution_count": null,
   "metadata": {
    "vscode": {
     "languageId": "plaintext"
    }
   },
   "outputs": [],
   "source": [
    "# Check if columns of interest exist in the DataFrame\n",
    "existing_columns = [col for col in columns_of_interest if col in data_4.columns]\n",
    "print(\"Existing columns:\", existing_columns)  # Print the existing columns to see what's available"
   ]
  },
  {
   "cell_type": "code",
   "execution_count": null,
   "metadata": {
    "vscode": {
     "languageId": "plaintext"
    }
   },
   "outputs": [],
   "source": [
    "# Extract the relevant columns\n",
    "data_4 = data_4[existing_columns]"
   ]
  },
  {
   "cell_type": "code",
   "execution_count": null,
   "metadata": {
    "vscode": {
     "languageId": "plaintext"
    }
   },
   "outputs": [],
   "source": [
    "data_4"
   ]
  },
  {
   "cell_type": "code",
   "execution_count": null,
   "metadata": {
    "vscode": {
     "languageId": "plaintext"
    }
   },
   "outputs": [],
   "source": [
    "# If necessary, flatten the 'location' and 'user_rating' dictionaries\n",
    "data_4['latitude'] = data_4['location'].apply(lambda x: x.get('latitude', None) if isinstance(x, dict) else None)\n",
    "data_4['longitude'] = data_4['location'].apply(lambda x: x.get('longitude', None) if isinstance(x, dict) else None)\n",
    "data_4['city'] = data_4['location'].apply(lambda x: x.get('city', None) if isinstance(x, dict) else None)\n",
    "data_4['address'] = data_4['location'].apply(lambda x: x.get('address', None) if isinstance(x, dict) else None)\n",
    "data_4['country_id'] = data_4['location'].apply(lambda x: x.get('country_id', None) if isinstance(x, dict) else None)\n",
    "data_4['locality_verbose'] = data_4['location'].apply(lambda x: x.get('locality_verbose', None) if isinstance(x, dict) else None)\n",
    "data_4['locality'] = data_4['location'].apply(lambda x: x.get('locality', None) if isinstance(x, dict) else None)\n",
    "\n",
    "data_4['aggregate_rating'] = data_4['user_rating'].apply(lambda x: x.get('aggregate_rating', None) if isinstance(x, dict) else None)\n",
    "data_4['rating_color'] = data_4['user_rating'].apply(lambda x: x.get('rating_color', None) if isinstance(x, dict) else None)\n",
    "data_4['rating_text'] = data_4['user_rating'].apply(lambda x: x.get('rating_text', None) if isinstance(x, dict) else None)\n",
    "data_4['votes'] = data_4['user_rating'].apply(lambda x: x.get('votes', None) if isinstance(x, dict) else None)\n",
    "\n",
    "# Flatten the 'R' dictionary\n",
    "data_4['res_id'] = data_4['R'].apply(lambda x: x.get('res_id', None) if isinstance(x, dict) else None)"
   ]
  },
  {
   "cell_type": "code",
   "execution_count": null,
   "metadata": {
    "vscode": {
     "languageId": "plaintext"
    }
   },
   "outputs": [],
   "source": [
    "# Drop the original 'location', 'user_rating', and 'R' columns if no longer needed\n",
    "data_4.drop(columns=['location', 'user_rating', 'R'], inplace=True)"
   ]
  },
  {
   "cell_type": "code",
   "execution_count": null,
   "metadata": {
    "vscode": {
     "languageId": "plaintext"
    }
   },
   "outputs": [],
   "source": [
    "data_4.drop(columns=['id'], inplace=True)"
   ]
  },
  {
   "cell_type": "code",
   "execution_count": null,
   "metadata": {
    "vscode": {
     "languageId": "plaintext"
    }
   },
   "outputs": [],
   "source": [
    "data_4.head()"
   ]
  },
  {
   "cell_type": "code",
   "execution_count": null,
   "metadata": {
    "vscode": {
     "languageId": "plaintext"
    }
   },
   "outputs": [],
   "source": [
    "data_4.shape"
   ]
  },
  {
   "cell_type": "markdown",
   "metadata": {},
   "source": [
    "***File 5***"
   ]
  },
  {
   "cell_type": "code",
   "execution_count": null,
   "metadata": {
    "vscode": {
     "languageId": "plaintext"
    }
   },
   "outputs": [],
   "source": [
    "# Load the dataset\n",
    "data_5 = pd.read_json('file5.json')"
   ]
  },
  {
   "cell_type": "code",
   "execution_count": null,
   "metadata": {
    "vscode": {
     "languageId": "plaintext"
    }
   },
   "outputs": [],
   "source": [
    "data_5"
   ]
  },
  {
   "cell_type": "code",
   "execution_count": null,
   "metadata": {
    "vscode": {
     "languageId": "plaintext"
    }
   },
   "outputs": [],
   "source": [
    "# drop column from dataframe\n",
    "data_5.drop(columns=[\"results_found\",\"results_shown\",\"results_start\",\"message\",\"code\",\"status\"],inplace=True,axis=1)"
   ]
  },
  {
   "cell_type": "code",
   "execution_count": null,
   "metadata": {
    "vscode": {
     "languageId": "plaintext"
    }
   },
   "outputs": [],
   "source": [
    "data_5"
   ]
  },
  {
   "cell_type": "code",
   "execution_count": null,
   "metadata": {
    "vscode": {
     "languageId": "plaintext"
    }
   },
   "outputs": [],
   "source": [
    "data_5.columns"
   ]
  },
  {
   "cell_type": "code",
   "execution_count": null,
   "metadata": {
    "vscode": {
     "languageId": "plaintext"
    }
   },
   "outputs": [],
   "source": [
    "# Initialize an empty list to hold restaurant data\n",
    "restaurants = []\n",
    "\n",
    "# Extract the restaurant data from the nested structure\n",
    "for restaurant_list in data_5['restaurants']:\n",
    "    # Check if the restaurant_list is a list\n",
    "    if isinstance(restaurant_list, list):  # Ensure it's a list before iterating\n",
    "        for restaurant in restaurant_list:  # Each restaurant_list contains individual restaurant dictionaries\n",
    "            if 'restaurant' in restaurant:  # Check if 'restaurant' key exists\n",
    "                restaurants.append(restaurant['restaurant'])  # Append the 'restaurant' dictionary to the list"
   ]
  },
  {
   "cell_type": "code",
   "execution_count": null,
   "metadata": {
    "vscode": {
     "languageId": "plaintext"
    }
   },
   "outputs": [],
   "source": [
    "# Create a new DataFrame from the list of restaurant dictionaries\n",
    "data_5 = pd.DataFrame(restaurants)"
   ]
  },
  {
   "cell_type": "code",
   "execution_count": null,
   "metadata": {
    "vscode": {
     "languageId": "plaintext"
    }
   },
   "outputs": [],
   "source": [
    "data_5.columns"
   ]
  },
  {
   "cell_type": "code",
   "execution_count": null,
   "metadata": {
    "vscode": {
     "languageId": "plaintext"
    }
   },
   "outputs": [],
   "source": [
    "# Step 1: Extract relevant columns\n",
    "columns_of_interest = [\n",
    "    'has_online_delivery', 'price_range','user_rating', 'R', 'name', 'cuisines', \n",
    "    'is_delivering_now', 'average_cost_for_two', 'switch_to_order_menu',\n",
    "    'has_table_booking', 'location','currency', 'id'\n",
    "]"
   ]
  },
  {
   "cell_type": "code",
   "execution_count": null,
   "metadata": {
    "vscode": {
     "languageId": "plaintext"
    }
   },
   "outputs": [],
   "source": [
    "# Check if columns of interest exist in the DataFrame\n",
    "existing_columns = [col for col in columns_of_interest if col in data_5.columns]\n",
    "print(\"Existing columns:\", existing_columns)  # Print the existing columns to see what's available"
   ]
  },
  {
   "cell_type": "code",
   "execution_count": null,
   "metadata": {
    "vscode": {
     "languageId": "plaintext"
    }
   },
   "outputs": [],
   "source": [
    "# Extract the relevant columns\n",
    "data_5 = data_5[existing_columns]"
   ]
  },
  {
   "cell_type": "code",
   "execution_count": null,
   "metadata": {
    "vscode": {
     "languageId": "plaintext"
    }
   },
   "outputs": [],
   "source": [
    "data_5"
   ]
  },
  {
   "cell_type": "code",
   "execution_count": null,
   "metadata": {
    "vscode": {
     "languageId": "plaintext"
    }
   },
   "outputs": [],
   "source": [
    "# If necessary, flatten the 'location' and 'user_rating' dictionaries\n",
    "data_5['latitude'] = data_5['location'].apply(lambda x: x.get('latitude', None) if isinstance(x, dict) else None)\n",
    "data_5['longitude'] = data_5['location'].apply(lambda x: x.get('longitude', None) if isinstance(x, dict) else None)\n",
    "data_5['city'] = data_5['location'].apply(lambda x: x.get('city', None) if isinstance(x, dict) else None)\n",
    "data_5['address'] = data_5['location'].apply(lambda x: x.get('address', None) if isinstance(x, dict) else None)\n",
    "data_5['country_id'] = data_5['location'].apply(lambda x: x.get('country_id', None) if isinstance(x, dict) else None)\n",
    "data_5['locality_verbose'] = data_5['location'].apply(lambda x: x.get('locality_verbose', None) if isinstance(x, dict) else None)\n",
    "data_5['locality'] = data_5['location'].apply(lambda x: x.get('locality', None) if isinstance(x, dict) else None)\n",
    "\n",
    "data_5['aggregate_rating'] = data_5['user_rating'].apply(lambda x: x.get('aggregate_rating', None) if isinstance(x, dict) else None)\n",
    "data_5['rating_color'] = data_5['user_rating'].apply(lambda x: x.get('rating_color', None) if isinstance(x, dict) else None)\n",
    "data_5['rating_text'] = data_5['user_rating'].apply(lambda x: x.get('rating_text', None) if isinstance(x, dict) else None)\n",
    "data_5['votes'] = data_5['user_rating'].apply(lambda x: x.get('votes', None) if isinstance(x, dict) else None)\n",
    "\n",
    "# Flatten the 'R' dictionary\n",
    "data_5['res_id'] = data_5['R'].apply(lambda x: x.get('res_id', None) if isinstance(x, dict) else None)"
   ]
  },
  {
   "cell_type": "code",
   "execution_count": null,
   "metadata": {
    "vscode": {
     "languageId": "plaintext"
    }
   },
   "outputs": [],
   "source": [
    "# Drop the original 'location', 'user_rating', and 'R' columns if no longer needed\n",
    "data_5.drop(columns=['location', 'user_rating', 'R'], inplace=True)"
   ]
  },
  {
   "cell_type": "code",
   "execution_count": null,
   "metadata": {
    "vscode": {
     "languageId": "plaintext"
    }
   },
   "outputs": [],
   "source": [
    "data_5.drop(columns=['id'], inplace=True)"
   ]
  },
  {
   "cell_type": "code",
   "execution_count": null,
   "metadata": {
    "vscode": {
     "languageId": "plaintext"
    }
   },
   "outputs": [],
   "source": [
    "data_5.head()"
   ]
  },
  {
   "cell_type": "code",
   "execution_count": null,
   "metadata": {
    "vscode": {
     "languageId": "plaintext"
    }
   },
   "outputs": [],
   "source": [
    "data_5.shape"
   ]
  },
  {
   "cell_type": "markdown",
   "metadata": {},
   "source": [
    "***Concatenate dataframe***"
   ]
  },
  {
   "cell_type": "code",
   "execution_count": null,
   "metadata": {
    "vscode": {
     "languageId": "plaintext"
    }
   },
   "outputs": [],
   "source": [
    "# List of DataFrames to concatenate\n",
    "dataframes = [data_1, data_2, data_3, data_4, data_5]"
   ]
  },
  {
   "cell_type": "code",
   "execution_count": null,
   "metadata": {
    "vscode": {
     "languageId": "plaintext"
    }
   },
   "outputs": [],
   "source": [
    "# Concatenate DataFrames vertically\n",
    "combined_df = pd.concat(dataframes, ignore_index=True)"
   ]
  },
  {
   "cell_type": "code",
   "execution_count": null,
   "metadata": {
    "vscode": {
     "languageId": "plaintext"
    }
   },
   "outputs": [],
   "source": [
    "# Check the result\n",
    "combined_df.head()"
   ]
  },
  {
   "cell_type": "code",
   "execution_count": null,
   "metadata": {
    "vscode": {
     "languageId": "plaintext"
    }
   },
   "outputs": [],
   "source": [
    "combined_df.shape  # Check the shape of the combined DataFrame"
   ]
  },
  {
   "cell_type": "code",
   "execution_count": null,
   "metadata": {
    "vscode": {
     "languageId": "plaintext"
    }
   },
   "outputs": [],
   "source": [
    "#Renaming specific columns after concatenation\n",
    "combined_df = combined_df.rename(columns={\n",
    "    'has_online_delivery': 'Has_Online_delivery',\n",
    "    'price_range': 'Price_range',\n",
    "    'name': 'Restaurant_name',\n",
    "    'cuisines': 'Cuisines',\n",
    "    'is_delivering_now': 'Is_delivering_now',\n",
    "    'average_cost_for_two': 'Average_Cost_for_two',\n",
    "    'switch_to_order_menu': 'Switch_to_order_menu',\n",
    "    'has_table_booking': 'Has_Table_Booking',\n",
    "    'currency': 'Currency',\n",
    "    'latitude': 'Latitude',\n",
    "    'longitude': 'Longitude',\n",
    "    'city': 'City',\n",
    "    'address': 'Address',\n",
    "    'aggregate_rating': 'Aggregate_rating',\n",
    "    'rating_color': 'Rating_color',\n",
    "    'rating_text': 'Rating_text',\n",
    "    'res_id': 'Restaurant_id',\n",
    "    'votes': 'Votes',\n",
    "    'locality': 'Locality',\n",
    "    'country_id': 'Country_code',\n",
    "    'locality_verbose': 'Locality_Verbose'\n",
    "})"
   ]
  },
  {
   "cell_type": "code",
   "execution_count": null,
   "metadata": {
    "vscode": {
     "languageId": "plaintext"
    }
   },
   "outputs": [],
   "source": [
    "combined_df.head()"
   ]
  },
  {
   "cell_type": "code",
   "execution_count": null,
   "metadata": {
    "vscode": {
     "languageId": "plaintext"
    }
   },
   "outputs": [],
   "source": [
    "combined_df.columns"
   ]
  },
  {
   "cell_type": "code",
   "execution_count": null,
   "metadata": {
    "vscode": {
     "languageId": "plaintext"
    }
   },
   "outputs": [],
   "source": [
    "# Specify the new order of columns\n",
    "new_column_order = ['Restaurant_id', 'Restaurant_name', 'Country_code', 'City', \n",
    "                    'Address', 'Locality', 'Locality_Verbose', 'Longitude', 'Latitude', \n",
    "                    'Cuisines', 'Average_Cost_for_two', 'Currency', 'Has_Table_Booking', \n",
    "                    'Has_Online_delivery', 'Is_delivering_now', 'Switch_to_order_menu', \n",
    "                    'Price_range', 'Aggregate_rating', 'Rating_color', 'Rating_text', 'Votes']"
   ]
  },
  {
   "cell_type": "code",
   "execution_count": null,
   "metadata": {
    "vscode": {
     "languageId": "plaintext"
    }
   },
   "outputs": [],
   "source": [
    "# Reassign the columns in the new order\n",
    "combined_df = combined_df[new_column_order]"
   ]
  },
  {
   "cell_type": "code",
   "execution_count": null,
   "metadata": {
    "vscode": {
     "languageId": "plaintext"
    }
   },
   "outputs": [],
   "source": [
    "combined_df.head()"
   ]
  },
  {
   "cell_type": "code",
   "execution_count": null,
   "metadata": {
    "vscode": {
     "languageId": "plaintext"
    }
   },
   "outputs": [],
   "source": [
    "# Save combined_df to a CSV file\n",
    "combined_df.to_csv('Zomato_combined_data.csv', index=False)"
   ]
  },
  {
   "cell_type": "code",
   "execution_count": null,
   "metadata": {
    "vscode": {
     "languageId": "plaintext"
    }
   },
   "outputs": [],
   "source": [
    "# upload the combined data to s3\n",
    "file_path = \"Zomato_combined_data.csv\"\n",
    "s3_client.upload_file(file_path,'chefmatebucket1','datas/Zomato_combined_data.csv') #folder/filename"
   ]
  }
 ],
 "metadata": {
  "language_info": {
   "name": "python"
  }
 },
 "nbformat": 4,
 "nbformat_minor": 2
}
